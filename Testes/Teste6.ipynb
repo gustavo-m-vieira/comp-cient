{
 "cells": [
  {
   "cell_type": "markdown",
   "metadata": {},
   "source": [
    "![CC-BY-SA](https://mirrors.creativecommons.org/presskit/buttons/88x31/svg/by-sa.svg)\n",
    "\n",
    "\n",
    "This notebook was created by [Bernardo Freitas Paulo da Costa](http://www.im.ufrj.br/bernardofpc),\n",
    "and is licensed under Creative Commons BY-SA."
   ]
  },
  {
   "cell_type": "markdown",
   "metadata": {},
   "source": [
    "Antes de enviar este Teste, verifique que tudo está funcionando como esperado.\n",
    "Por exemplo, **rode o código inteiro, do zero**.\n",
    "Para isso, vá no menu, escolha _Kernel_, depois _Restart & Run All_.\n",
    "\n",
    "Verifique, também, que você respondeu todas as questões:\n",
    "* as questões de código têm `YOUR CODE HERE` (e você pode apagar o `raise NotImplemented` ao incluir sua resposta)\n",
    "* as questões discursivas têm \"YOUR ANSWER HERE\"."
   ]
  },
  {
   "cell_type": "markdown",
   "metadata": {},
   "source": [
    "---"
   ]
  },
  {
   "cell_type": "code",
   "execution_count": 35,
   "metadata": {
    "deletable": false,
    "editable": false,
    "nbgrader": {
     "cell_type": "code",
     "checksum": "9767d0813f0c2da28209a5ec098a11ea",
     "grade": false,
     "grade_id": "cell-dc47573a04a322a6",
     "locked": true,
     "schema_version": 3,
     "solution": false
    }
   },
   "outputs": [],
   "source": [
    "import numpy as np\n",
    "import matplotlib.pyplot as plt"
   ]
  },
  {
   "cell_type": "markdown",
   "metadata": {},
   "source": [
    "# Integrais difíceis\n",
    "\n",
    "Vimos em aula que os métodos de \"alta ordem\" convergem mais rápido quando a função é várias vezes diferenciável.\n",
    "Neste teste, vamos olhar a situação contrária:\n",
    "vamos integrar funções que não são\n",
    "- diferenciáveis\n",
    "- contínuas\n",
    "\n",
    "no intervalo de integração, e ver como os métodos se comportam!"
   ]
  },
  {
   "cell_type": "code",
   "execution_count": 36,
   "metadata": {
    "deletable": false,
    "nbgrader": {
     "cell_type": "code",
     "checksum": "98b1e4acb51d9a7d1dc87733c98c9945",
     "grade": false,
     "grade_id": "methods",
     "locked": false,
     "schema_version": 3,
     "solution": true,
     "task": false
    }
   },
   "outputs": [],
   "source": [
    "# Métodos do retângulo, ponto médio e simpson.\n",
    "# Nomes: retangulo, midpoint, simpson\n",
    "# Forma: (f,a,b,n=100)\n",
    "\n",
    "def retangulo(f, a, b, n=1000):\n",
    "  xs = np.linspace(a, b, n, endpoint=False)\n",
    "  fxs = f(xs)\n",
    "  return sum(fxs)*(b-a)/n\n",
    "\n",
    "def midpoint(f, a, b, n=1000):\n",
    "  x1 = np.linspace(a, b, n, endpoint=False)\n",
    "  h = (b-a)/n\n",
    "\n",
    "  h2 = (b-a)/(2*n)\n",
    "  xs = x1 + h2\n",
    "  fxs = f(xs)\n",
    "\n",
    "  return sum(fxs)*h\n",
    "\n",
    "def trapezio(f, a, b, n=1000):\n",
    "  xs = np.linspace(a, b, n + 1, endpoint=True)\n",
    "  h2 = (b-a)/(2*n)\n",
    "  fxs = f(xs)\n",
    "  y1 = fxs[1:]\n",
    "  y2 = fxs[:-1]\n",
    "\n",
    "  return sum((y1 + y2))*h2\n",
    "\n",
    "def simpson(f, a, b, n=100):\n",
    "  return (2*midpoint(f, a, b, n) + trapezio(f, a, b, n))/3\n",
    "\n",
    "methods = [retangulo, midpoint, simpson]"
   ]
  },
  {
   "cell_type": "markdown",
   "metadata": {},
   "source": [
    "# Parte 1: Integrando uma função que não é diferenciável"
   ]
  },
  {
   "cell_type": "code",
   "execution_count": 37,
   "metadata": {
    "deletable": false,
    "editable": false,
    "nbgrader": {
     "cell_type": "code",
     "checksum": "cbe373202c4ad6bc7d365f4ae6456e70",
     "grade": false,
     "grade_id": "derivada_simetrica",
     "locked": true,
     "schema_version": 3,
     "solution": false
    }
   },
   "outputs": [],
   "source": [
    "def df(f,x,h=2**-17):\n",
    "    \"\"\"17*3 = 54\"\"\"\n",
    "    return (f(x+h) - f(x-h))/(2*h)"
   ]
  },
  {
   "cell_type": "code",
   "execution_count": 38,
   "metadata": {},
   "outputs": [],
   "source": [
    "f = np.abs"
   ]
  },
  {
   "cell_type": "markdown",
   "metadata": {},
   "source": [
    "## Questão 1: Dê uma primitiva de $f$."
   ]
  },
  {
   "cell_type": "code",
   "execution_count": 39,
   "metadata": {
    "deletable": false,
    "nbgrader": {
     "cell_type": "code",
     "checksum": "6a40e050b33d7f9566ef941b8eb4bb0a",
     "grade": false,
     "grade_id": "prim_abs",
     "locked": false,
     "schema_version": 3,
     "solution": true
    }
   },
   "outputs": [],
   "source": [
    "def F(x):\n",
    "    return (x**2)*np.sign(x)/2"
   ]
  },
  {
   "cell_type": "code",
   "execution_count": 40,
   "metadata": {
    "deletable": false,
    "editable": false,
    "nbgrader": {
     "cell_type": "code",
     "checksum": "caa5a91a118a9ac83dff96993838ffcf",
     "grade": true,
     "grade_id": "prim_abs1",
     "locked": true,
     "points": 1,
     "schema_version": 3,
     "solution": false
    }
   },
   "outputs": [],
   "source": [
    "assert np.abs(df(F,1) - 1) < 1e-12"
   ]
  },
  {
   "cell_type": "code",
   "execution_count": 41,
   "metadata": {
    "deletable": false,
    "editable": false,
    "nbgrader": {
     "cell_type": "code",
     "checksum": "bb8f0580b6bb4a209dea3118a8d46836",
     "grade": true,
     "grade_id": "prim_abs2",
     "locked": true,
     "points": 1,
     "schema_version": 3,
     "solution": false
    }
   },
   "outputs": [],
   "source": [
    "assert np.abs(df(F,-2) - 2) < 2e-12"
   ]
  },
  {
   "cell_type": "code",
   "execution_count": 42,
   "metadata": {
    "deletable": false,
    "editable": false,
    "nbgrader": {
     "cell_type": "code",
     "checksum": "15920b01f67c0aa6f6926f34cc826936",
     "grade": true,
     "grade_id": "prim_abs3",
     "locked": true,
     "points": 1,
     "schema_version": 3,
     "solution": false
    }
   },
   "outputs": [],
   "source": [
    "np.random.seed(1)\n",
    "xs = np.random.randn(10)\n",
    "relerr = (df(F,xs) - f(xs))/f(xs)\n",
    "assert np.all(np.abs(relerr) < 2e-11)"
   ]
  },
  {
   "cell_type": "markdown",
   "metadata": {},
   "source": [
    "$F$ é diferenciável em zero, mas é uma conta difícil"
   ]
  },
  {
   "cell_type": "code",
   "execution_count": 43,
   "metadata": {},
   "outputs": [
    {
     "data": {
      "text/plain": [
       "3.814697265625e-06"
      ]
     },
     "execution_count": 43,
     "metadata": {},
     "output_type": "execute_result"
    }
   ],
   "source": [
    "df(F,0)"
   ]
  },
  {
   "cell_type": "markdown",
   "metadata": {},
   "source": [
    "## Questão 2: Convergência das integrais\n",
    "\n",
    "A que velocidade decai o erro de integração de $f$ no intervalo $[0,1]$?\n",
    "\n",
    "1. Faça um gráfico com alguns valores de $n$, para observar a ordem dos três métodos\n",
    "    - Dica: `f.__name__` dá o nome de uma função, para você usar na legenda\n",
    "2. Depois, dê a ordem do método do retângulo"
   ]
  },
  {
   "cell_type": "code",
   "execution_count": 44,
   "metadata": {
    "deletable": false,
    "nbgrader": {
     "cell_type": "code",
     "checksum": "f10cd676d850824fb5921928490af0be",
     "grade": true,
     "grade_id": "conv_order",
     "locked": false,
     "points": 2,
     "schema_version": 3,
     "solution": true
    }
   },
   "outputs": [
    {
     "data": {
      "image/png": "[encoded data removed]",
      "text/plain": [
       "<Figure size 640x480 with 1 Axes>"
      ]
     },
     "metadata": {},
     "output_type": "display_data"
    }
   ],
   "source": [
    "ans = F(1) - F(0)\n",
    "ns = np.logspace(1,4,dtype=int)\n",
    "for m in methods:\n",
    "  tys = [abs(ans - m(f, 0, 1, int(n))) for n in ns]\n",
    "  plt.plot(ns, tys, '-', label=m.__name__, linewidth=3)\n",
    "\n",
    "plt.xscale('log')\n",
    "plt.yscale('log')\n",
    "plt.title(f\"Erro da integral da função {F.__name__} de 0 a 1 em função do número de pontos\")\n",
    "plt.xlabel(\"Número de pontos\")\n",
    "plt.ylabel(\"Erro\")\n",
    "plt.grid()\n",
    "plt.legend()\n",
    "plt.show()"
   ]
  },
  {
   "cell_type": "code",
   "execution_count": 45,
   "metadata": {
    "deletable": false,
    "nbgrader": {
     "cell_type": "code",
     "checksum": "4f8ff2f2881ce240c7dd1207e0f2c489",
     "grade": false,
     "grade_id": "decay_order",
     "locked": false,
     "schema_version": 3,
     "solution": true
    }
   },
   "outputs": [
    {
     "ename": "NotImplementedError",
     "evalue": "",
     "output_type": "error",
     "traceback": [
      "\u001b[0;31m---------------------------------------------------------------------------\u001b[0m",
      "\u001b[0;31mNotImplementedError\u001b[0m                       Traceback (most recent call last)",
      "Cell \u001b[0;32mIn [45], line 3\u001b[0m\n\u001b[1;32m      1\u001b[0m \u001b[39m# Forma da resposta: decay_speed = n\u001b[39;00m\n\u001b[1;32m      2\u001b[0m \u001b[39m# YOUR CODE HERE\u001b[39;00m\n\u001b[0;32m----> 3\u001b[0m \u001b[39mraise\u001b[39;00m \u001b[39mNotImplementedError\u001b[39;00m()\n",
      "\u001b[0;31mNotImplementedError\u001b[0m: "
     ]
    }
   ],
   "source": [
    "# Forma da resposta: decay_speed = n\n",
    "# YOUR CODE HERE\n",
    "raise NotImplementedError()"
   ]
  },
  {
   "cell_type": "code",
   "execution_count": null,
   "metadata": {
    "deletable": false,
    "editable": false,
    "nbgrader": {
     "cell_type": "code",
     "checksum": "83b7ad04ea7b61324166e3f8ab89d752",
     "grade": true,
     "grade_id": "test_decay_abs",
     "locked": true,
     "points": 1,
     "schema_version": 3,
     "solution": false
    }
   },
   "outputs": [],
   "source": [
    "for n in np.random.randint(100,10000, size=(6)):\n",
    "    I1 = retangulo(f,0,1,n)\n",
    "    err1 = np.abs(I1 - ans)\n",
    "    I2 = retangulo(f,0,1,2*n)\n",
    "    err2 = np.abs(I2 - ans)\n",
    "    assert np.abs( err2/err1 - 2**-decay_speed ) < 2*n*1e-14"
   ]
  },
  {
   "cell_type": "markdown",
   "metadata": {},
   "source": [
    "Explique porque o teste está dando a ordem de convergência (Bônus)"
   ]
  },
  {
   "cell_type": "markdown",
   "metadata": {
    "deletable": false,
    "nbgrader": {
     "cell_type": "markdown",
     "checksum": "1d9f57adcc87a1dd40477bbdda3513b9",
     "grade": true,
     "grade_id": "cell-73a741ab2527cf2e",
     "locked": false,
     "points": 2,
     "schema_version": 3,
     "solution": true,
     "task": false
    }
   },
   "source": [
    "YOUR ANSWER HERE"
   ]
  },
  {
   "cell_type": "markdown",
   "metadata": {},
   "source": [
    "Agora, explique o que aconteceu nos métodos do ponto médio e de Simpson."
   ]
  },
  {
   "cell_type": "markdown",
   "metadata": {
    "deletable": false,
    "nbgrader": {
     "cell_type": "markdown",
     "checksum": "0126bf7bf973ba86107f97f96cb0d183",
     "grade": true,
     "grade_id": "mid_simp_abs",
     "locked": false,
     "points": 2,
     "schema_version": 3,
     "solution": true
    }
   },
   "source": [
    "YOUR ANSWER HERE"
   ]
  },
  {
   "cell_type": "markdown",
   "metadata": {},
   "source": [
    "## Questão 3: Mudando o intervalo de integração"
   ]
  },
  {
   "cell_type": "markdown",
   "metadata": {},
   "source": [
    "Agora, faça o gráfico do erro para o intervalo $[-1,2]$."
   ]
  },
  {
   "cell_type": "code",
   "execution_count": null,
   "metadata": {
    "deletable": false,
    "nbgrader": {
     "cell_type": "code",
     "checksum": "cadcfbd96abd80523ddae281501deb49",
     "grade": true,
     "grade_id": "graph_err",
     "locked": false,
     "points": 2,
     "schema_version": 3,
     "solution": true
    }
   },
   "outputs": [],
   "source": [
    "# Faça aqui uma função genérica para \"fazer gráficos de erro\"\n",
    "# f é a função, [a,b] o intervalo de integração, ans a \"resposta correta\"\n",
    "def graph_err(f,a,b,ans):\n",
    "    ns = np.logspace(1,4,dtype=int)\n",
    "    for m in methods:\n",
    "        tys = [abs(ans - m(f, a, b, int(n))) for n in ns]\n",
    "        plt.plot(ns, tys, '-', label=m.__name__, linewidth=3)\n",
    "\n",
    "    plt.xscale('log')\n",
    "    plt.yscale('log')\n",
    "    plt.title(f\"Erro da integral em função do número de pontos\")\n",
    "    plt.xlabel(\"Número de pontos\")\n",
    "    plt.ylabel(\"Erro\")\n",
    "    plt.grid()\n",
    "    plt.legend()"
   ]
  },
  {
   "cell_type": "code",
   "execution_count": null,
   "metadata": {
    "deletable": false,
    "editable": false,
    "nbgrader": {
     "cell_type": "code",
     "checksum": "356b034ffafbd6bcb6dd90fef9f7bdc9",
     "grade": false,
     "grade_id": "graph_abs_12",
     "locked": true,
     "schema_version": 3,
     "solution": false
    }
   },
   "outputs": [],
   "source": [
    "a,b = -1,2\n",
    "ans = F(b) - F(a)\n",
    "graph_err(f,a,b,ans)\n",
    "plt.show()"
   ]
  },
  {
   "cell_type": "markdown",
   "metadata": {},
   "source": [
    "Quais são as velocidades de convergência dos métodos?\n",
    "\n",
    "Você percebe algum comportamento especial?  Como explicar isso?"
   ]
  },
  {
   "cell_type": "markdown",
   "metadata": {
    "deletable": false,
    "nbgrader": {
     "cell_type": "markdown",
     "checksum": "2cf035c266fb4ba571ed87aba2277d2d",
     "grade": true,
     "grade_id": "interpr_abs12",
     "locked": false,
     "points": 3,
     "schema_version": 3,
     "solution": true
    }
   },
   "source": [
    "YOUR ANSWER HERE"
   ]
  },
  {
   "cell_type": "markdown",
   "metadata": {},
   "source": [
    "Agora, repita o estudo para o intervalo $[-1,1]$.\n",
    "\n",
    "Aqui, será melhor ter um gráfico separado para cada um dos três métodos."
   ]
  },
  {
   "cell_type": "code",
   "execution_count": null,
   "metadata": {
    "deletable": false,
    "nbgrader": {
     "cell_type": "code",
     "checksum": "8458e9b85ff62413612d16c77d42c3bd",
     "grade": true,
     "grade_id": "graph_abs_sym",
     "locked": false,
     "points": 2,
     "schema_version": 3,
     "solution": true
    }
   },
   "outputs": [],
   "source": [
    "ans = F(1) - F(-1)\n",
    "ns = np.logspace(1,4,dtype=int)\n",
    "_, axs = plt.subplots(ncols=3, figsize=(15,4))\n",
    "f = F\n",
    "a, b = -1,1\n",
    "\n",
    "for m,ax in zip(methods,axs):\n",
    "    tys = [abs(ans - m(f, a, b, int(n))) for n in ns]\n",
    "    ax.loglog(ns, tys, '-', label=m.__name__, linewidth=3)\n",
    "    ax.grid()\n",
    "    ax.legend()\n",
    "\n",
    "plt.show()"
   ]
  },
  {
   "cell_type": "markdown",
   "metadata": {},
   "source": [
    "O que aconteceu agora?\n",
    "Porquê?"
   ]
  },
  {
   "cell_type": "markdown",
   "metadata": {
    "deletable": false,
    "nbgrader": {
     "cell_type": "markdown",
     "checksum": "72d90438b469551ab87717271a56aac9",
     "grade": true,
     "grade_id": "interpret_abs2",
     "locked": false,
     "points": 2,
     "schema_version": 3,
     "solution": true
    }
   },
   "source": [
    "YOUR ANSWER HERE"
   ]
  },
  {
   "cell_type": "markdown",
   "metadata": {},
   "source": [
    "## Questão 4: Intervalos \"aleatórios\"!\n",
    "\n",
    "Como sugerido abaixo:\n",
    "- Estude em três intervalos aleatórios;\n",
    "- Para cada um deles, dê a evolução dos erros dos métodos conforme $n$ aumenta.\n",
    "\n",
    "Aqui, usar a `graph_err` vai ser uma boa ideia ;-)"
   ]
  },
  {
   "cell_type": "code",
   "execution_count": 46,
   "metadata": {
    "deletable": false,
    "nbgrader": {
     "cell_type": "code",
     "checksum": "71153189fcaa5b34de976e9a1266f753",
     "grade": true,
     "grade_id": "graph_abs_rand",
     "locked": false,
     "points": 1,
     "schema_version": 3,
     "solution": true
    }
   },
   "outputs": [
    {
     "data": {
      "image/png": "[encoded data removed]",
      "text/plain": [
       "<Figure size 1500x400 with 3 Axes>"
      ]
     },
     "metadata": {},
     "output_type": "display_data"
    }
   ],
   "source": [
    "_, axs = plt.subplots(ncols=3, figsize=(15,4))\n",
    "for ax in axs:\n",
    "    # Três intervalos aleatórios!\n",
    "    a,b = -np.random.rand(), np.random.rand()\n",
    "    ax.set_title('$|x|$ in $[{:.2},{:.2}]$'.format(a,b))\n",
    "    plt.sca(ax) # Porque a função \"graph_err\" age \"no eixo corrente\"\n",
    "    ans = F(b) - F(a)\n",
    "    graph_err(F,a,b,ans)\n",
    "plt.show()"
   ]
  },
  {
   "cell_type": "markdown",
   "metadata": {},
   "source": [
    "Como você interpreta o que aconteceu?"
   ]
  },
  {
   "cell_type": "markdown",
   "metadata": {
    "deletable": false,
    "nbgrader": {
     "cell_type": "markdown",
     "checksum": "06c312cd12a4328edc907fba41815416",
     "grade": true,
     "grade_id": "interp_abs_rand",
     "locked": false,
     "points": 2,
     "schema_version": 3,
     "solution": true
    }
   },
   "source": [
    "YOUR ANSWER HERE"
   ]
  },
  {
   "cell_type": "markdown",
   "metadata": {},
   "source": [
    "# Parte 2: Uma função descontínua"
   ]
  },
  {
   "cell_type": "code",
   "execution_count": 47,
   "metadata": {
    "deletable": false,
    "editable": false,
    "nbgrader": {
     "cell_type": "code",
     "checksum": "fa00066ec2633fcebc6d2577f8063c5f",
     "grade": false,
     "grade_id": "cos_sign",
     "locked": true,
     "schema_version": 3,
     "solution": false,
     "task": false
    }
   },
   "outputs": [
    {
     "data": {
      "image/png": "[encoded data removed]",
      "text/plain": [
       "<Figure size 640x480 with 1 Axes>"
      ]
     },
     "metadata": {},
     "output_type": "display_data"
    }
   ],
   "source": [
    "def g(x):\n",
    "    return np.cos(x)*np.sign(x)\n",
    "\n",
    "ts = np.linspace(-1,2)\n",
    "plt.plot(ts, g(ts))\n",
    "plt.show()"
   ]
  },
  {
   "cell_type": "markdown",
   "metadata": {},
   "source": [
    "## Questão 5: Dê uma primitiva de $g$"
   ]
  },
  {
   "cell_type": "code",
   "execution_count": null,
   "metadata": {
    "deletable": false,
    "nbgrader": {
     "cell_type": "code",
     "checksum": "12dcc5982cce2afe930fa2404d5e88bb",
     "grade": false,
     "grade_id": "prim_sign_cos",
     "locked": false,
     "schema_version": 3,
     "solution": true
    }
   },
   "outputs": [],
   "source": [
    "def G(x):\n",
    "    # YOUR CODE HERE\n",
    "    raise NotImplementedError()"
   ]
  },
  {
   "cell_type": "code",
   "execution_count": null,
   "metadata": {
    "deletable": false,
    "editable": false,
    "nbgrader": {
     "cell_type": "code",
     "checksum": "5dd07ad8f85fe2da2f88b07011959716",
     "grade": true,
     "grade_id": "prim_sign_cos1",
     "locked": true,
     "points": 1,
     "schema_version": 3,
     "solution": false
    }
   },
   "outputs": [],
   "source": [
    "assert np.abs(df(G,1) - g(1)) < 1e-12"
   ]
  },
  {
   "cell_type": "code",
   "execution_count": null,
   "metadata": {
    "deletable": false,
    "editable": false,
    "nbgrader": {
     "cell_type": "code",
     "checksum": "5440bea7b667e90ec7e20f02846093f7",
     "grade": true,
     "grade_id": "prim_sign_cos2",
     "locked": true,
     "points": 2,
     "schema_version": 3,
     "solution": false
    }
   },
   "outputs": [],
   "source": [
    "np.random.seed(1)\n",
    "xs = np.random.randn(10)\n",
    "relerr = (df(G,xs) - g(xs))/g(xs)\n",
    "assert np.all(np.abs(relerr) < 5e-11)"
   ]
  },
  {
   "cell_type": "markdown",
   "metadata": {},
   "source": [
    "## Questão 6: Gráficos de erro!\n",
    "\n",
    "- Para os intervalos [-1,1] e [-1,2]"
   ]
  },
  {
   "cell_type": "code",
   "execution_count": null,
   "metadata": {
    "deletable": false,
    "nbgrader": {
     "cell_type": "code",
     "checksum": "b1b070c8b56f0d5ede2c5a6caa918e03",
     "grade": true,
     "grade_id": "graph_sign_cos11",
     "locked": false,
     "points": 1,
     "schema_version": 3,
     "solution": true
    }
   },
   "outputs": [],
   "source": [
    "_, axs = plt.subplots(ncols=2, figsize=(13,4))\n",
    "# YOUR CODE HERE\n",
    "raise NotImplementedError()\n",
    "plt.show()"
   ]
  },
  {
   "cell_type": "markdown",
   "metadata": {},
   "source": [
    "E agora para três intervalos aleatórios"
   ]
  },
  {
   "cell_type": "code",
   "execution_count": null,
   "metadata": {
    "deletable": false,
    "nbgrader": {
     "cell_type": "code",
     "checksum": "54af685b13b44ec991437fe8bfbec9b7",
     "grade": true,
     "grade_id": "graph_sign_cos_rand",
     "locked": false,
     "points": 2,
     "schema_version": 3,
     "solution": true,
     "task": false
    }
   },
   "outputs": [],
   "source": [
    "# Um intervalo aleatório!\n",
    "_, axs = plt.subplots(ncols=3, figsize=(15,4))\n",
    "# YOUR CODE HERE\n",
    "raise NotImplementedError()\n",
    "plt.show()"
   ]
  },
  {
   "cell_type": "markdown",
   "metadata": {},
   "source": [
    "O que você pode concluir sobre o comportamento dos três métodos para funções descontínuas?\n",
    "\n",
    "Quais fenômenos são similares para funções contínuas, mas não diferenciáveis?\n",
    "Porquê?"
   ]
  },
  {
   "cell_type": "code",
   "execution_count": null,
   "metadata": {
    "deletable": false,
    "nbgrader": {
     "cell_type": "code",
     "checksum": "b8f5c6fe807114f575259bf0ba5c9866",
     "grade": true,
     "grade_id": "int_cos_sign",
     "locked": false,
     "points": 4,
     "schema_version": 3,
     "solution": true
    }
   },
   "outputs": [],
   "source": [
    "# YOUR CODE HERE\n",
    "raise NotImplementedError()"
   ]
  }
 ],
 "metadata": {
  "kernelspec": {
   "display_name": "Python 3.8.10 64-bit",
   "language": "python",
   "name": "python3"
  },
  "language_info": {
   "codemirror_mode": {
    "name": "ipython",
    "version": 3
   },
   "file_extension": ".py",
   "mimetype": "text/x-python",
   "name": "python",
   "nbconvert_exporter": "python",
   "pygments_lexer": "ipython3",
   "version": "3.8.10"
  },
  "vscode": {
   "interpreter": {
    "hash": "916dbcbb3f70747c44a77c7bcd40155683ae19c65e1c03b4aa3499c5328201f1"
   }
  }
 },
 "nbformat": 4,
 "nbformat_minor": 2
}
